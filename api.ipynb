{
 "cells": [
  {
   "cell_type": "markdown",
   "metadata": {},
   "source": [
    "This exercise will require you to pull some data from the Qunadl API. Qaundl is currently the most widely used aggregator of financial market data."
   ]
  },
  {
   "cell_type": "markdown",
   "metadata": {},
   "source": [
    "As a first step, you will need to register a free account on the http://www.quandl.com website."
   ]
  },
  {
   "cell_type": "markdown",
   "metadata": {},
   "source": [
    "After you register, you will be provided with a unique API key, that you should store:"
   ]
  },
  {
   "cell_type": "code",
   "execution_count": null,
   "metadata": {
    "collapsed": true
   },
   "outputs": [],
   "source": [
    "# Store the API key as a string - according to PEP8, constants are always named in all upper case\n",
    "API_KEY = ''"
   ]
  },
  {
   "cell_type": "markdown",
   "metadata": {},
   "source": [
    "Qaundl has a large number of data sources, but, unfortunately, most of them require a Premium subscription. Still, there are also a good number of free datasets."
   ]
  },
  {
   "cell_type": "markdown",
   "metadata": {},
   "source": [
    "For this mini project, we will focus on equities data from the Frankfurt Stock Exhange (FSE), which is available for free. We'll try and analyze the stock prices of a company called Carl Zeiss Meditec, which manufactures tools for eye examinations, as well as medical lasers for laser eye surgery: https://www.zeiss.com/meditec/int/home.html. The company is listed under the stock ticker AFX_X."
   ]
  },
  {
   "cell_type": "markdown",
   "metadata": {},
   "source": [
    "You can find the detailed Quandl API instructions here: https://docs.quandl.com/docs/time-series"
   ]
  },
  {
   "cell_type": "markdown",
   "metadata": {},
   "source": [
    "While there is a dedicated Python package for connecting to the Quandl API, we would prefer that you use the *requests* package, which can be easily downloaded using *pip* or *conda*. You can find the documentation for the package here: http://docs.python-requests.org/en/master/ "
   ]
  },
  {
   "cell_type": "markdown",
   "metadata": {},
   "source": [
    "Finally, apart from the *requests* package, you are encouraged to not use any third party Python packages, such as *pandas*, and instead focus on what's available in the Python Standard Library (the *collections* module might come in handy: https://pymotw.com/3/collections/ ).\n",
    "Also, since you won't have access to DataFrames, you are encouraged to us Python's native data structures - preferably dictionaries, though some questions can also be answered using lists.\n",
    "You can read more on these data structures here: https://docs.python.org/3/tutorial/datastructures.html"
   ]
  },
  {
   "cell_type": "markdown",
   "metadata": {},
   "source": [
    "Keep in mind that the JSON responses you will be getting from the API map almost one-to-one to Python's dictionaries. Unfortunately, they can be very nested, so make sure you read up on indexing dictionaries in the documentation provided above."
   ]
  },
  {
   "cell_type": "code",
   "execution_count": 33,
   "metadata": {},
   "outputs": [],
   "source": [
    "# First, import the relevant modules\n",
    "import requests\n",
    "import json"
   ]
  },
  {
   "cell_type": "code",
   "execution_count": 34,
   "metadata": {},
   "outputs": [],
   "source": [
    "# Now, call the Quandl API and pull out a small sample of the data (only one day) to get a glimpse\n",
    "# into the JSON structure that will be returned\n",
    "r= requests.get(\"https://www.quandl.com/api/v3/datasets/FSE/AFX_X.json?collapse=daily&rows=2&api_key=\")"
   ]
  },
  {
   "cell_type": "code",
   "execution_count": 35,
   "metadata": {},
   "outputs": [
    {
     "name": "stdout",
     "output_type": "stream",
     "text": [
      "200\n",
      "application/json; charset=utf-8\n",
      "50000\n",
      "{\"dataset\":{\"id\":10095370,\"dataset_code\":\"AFX_X\",\"database_code\":\"FSE\",\"name\":\"Carl Zeiss Meditec (AFX_X)\",\"description\":\"Stock Prices for Carl Zeiss Meditec (AFX) from the Frankfurt Stock Exchange.\\u003cbr\\u003e\\u003cbr\\u003eTrading System: Xetra\\u003cbr\\u003e\\u003cbr\\u003eISIN: DE0005313704\",\"refreshed_at\":\"2019-04-22T22:35:59.509Z\",\"newest_available_date\":\"2019-04-18\",\"oldest_available_date\":\"2000-06-07\",\"column_names\":[\"Date\",\"Open\",\"High\",\"Low\",\"Close\",\"Change\",\"Traded Volume\",\"Turnover\",\"Last Price of the Day\",\"Daily Traded Units\",\"Daily Turnover\"],\"frequency\":\"daily\",\"type\":\"Time Series\",\"premium\":false,\"limit\":2,\"transform\":null,\"column_index\":null,\"start_date\":\"2000-06-07\",\"end_date\":\"2019-04-18\",\"data\":[[\"2019-04-18\",null,80.85,79.7,80.55,null,139210.0,11191903.0,null,null,null],[\"2019-04-17\",null,81.5,79.35,80.6,null,184162.0,14795080.0,null,null,null]],\"collapse\":\"daily\",\"order\":null,\"database_id\":6129}}\n",
      "{'dataset': {'id': 10095370, 'dataset_code': 'AFX_X', 'database_code': 'FSE', 'name': 'Carl Zeiss Meditec (AFX_X)', 'description': 'Stock Prices for Carl Zeiss Meditec (AFX) from the Frankfurt Stock Exchange.<br><br>Trading System: Xetra<br><br>ISIN: DE0005313704', 'refreshed_at': '2019-04-22T22:35:59.509Z', 'newest_available_date': '2019-04-18', 'oldest_available_date': '2000-06-07', 'column_names': ['Date', 'Open', 'High', 'Low', 'Close', 'Change', 'Traded Volume', 'Turnover', 'Last Price of the Day', 'Daily Traded Units', 'Daily Turnover'], 'frequency': 'daily', 'type': 'Time Series', 'premium': False, 'limit': 2, 'transform': None, 'column_index': None, 'start_date': '2000-06-07', 'end_date': '2019-04-18', 'data': [['2019-04-18', None, 80.85, 79.7, 80.55, None, 139210.0, 11191903.0, None, None, None], ['2019-04-17', None, 81.5, 79.35, 80.6, None, 184162.0, 14795080.0, None, None, None]], 'collapse': 'daily', 'order': None, 'database_id': 6129}}\n"
     ]
    }
   ],
   "source": [
    "# Inspect the JSON structure of the object you created, and take note of how nested it is,\n",
    "# as well as the overall structure\n",
    "print(r.status_code)\n",
    "print(r.headers['content-type'])\n",
    "print(r.headers['X-RateLimit-Limit'])\n",
    "print(r.text)\n"
   ]
  },
  {
   "cell_type": "markdown",
   "metadata": {},
   "source": [
    "These are your tasks for this mini project:\n",
    "\n",
    "1. Collect data from the Franfurt Stock Exchange, for the ticker AFX_X, for the whole year 2017 (keep in mind that the date format is YYYY-MM-DD).\n",
    "2. Convert the returned JSON object into a Python dictionary.\n",
    "3. Calculate what the highest and lowest opening prices were for the stock in this period.\n",
    "4. What was the largest change in any one day (based on High and Low price)?\n",
    "5. What was the largest change between any two days (based on Closing Price)?\n",
    "6. What was the average daily trading volume during this year?\n",
    "7. (Optional) What was the median trading volume during this year. (Note: you may need to implement your own function for calculating the median.)"
   ]
  },
  {
   "cell_type": "code",
   "execution_count": 164,
   "metadata": {},
   "outputs": [
    {
     "name": "stdout",
     "output_type": "stream",
     "text": [
      "The highest opening price for the stock in this period was $ 53.11\n",
      "The lowest opening price for the stock in this period was $ 0\n",
      "the largest change in any one day is $ 2.8100000000000023\n",
      "The largest change between any two days 19.03\n",
      "The average daily trading volume during this year was  89124.33725490196\n",
      "The median trading volume during this year was  76286.0\n"
     ]
    }
   ],
   "source": [
    "#1. Collect data from the Franfurt Stock Exchange, for the ticker AFX_X, for the whole year 2017 (keep in mind that the date format is YYYY-MM-DD).\n",
    "#2. Convert the returned JSON object into a Python dictionary.\n",
    "data_dict = requests.get(\"https://www.quandl.com/api/v3/datasets/FSE/AFX_X.json?start_date=2017-01-01&end_date=2017-12-31&api_key=tKBVsSzbDnpjuEwDZJno\").json()\n",
    "\n",
    "#3. Calculate what the highest and lowest opening prices were for the stock in this period.\n",
    "def column(matrix, i):\n",
    "    #return [row[i] for row in matrix]\n",
    "    new_list = []\n",
    "    for row in matrix:\n",
    "        if row[i] is None:\n",
    "            val = 0\n",
    "        else:\n",
    "            val = row[i]\n",
    "        new_list.append(val)    \n",
    "    return new_list    \n",
    "\n",
    "column_list = data_dict['dataset']['column_names']\n",
    "high_idx = column_list.index('High')\n",
    "low_idx = column_list.index('Low')\n",
    "open_idx = column_list.index('Open')\n",
    "tradeVol_idx = column_list.index('Traded Volume')\n",
    "close_idx = column_list.index('Close')\n",
    "print('The highest opening price for the stock in this period was $', max(column(data_dict['dataset']['data'], open_idx)))\n",
    "print('The lowest opening price for the stock in this period was $', min(column(data_dict['dataset']['data'], open_idx)))\n",
    "\n",
    "\n",
    "#4. What was the largest change in any one day (based on High and Low price)?\n",
    "high_list = column(data_dict['dataset']['data'], high_idx)\n",
    "low_list = column(data_dict['dataset']['data'], low_idx)\n",
    "diff = (high_val - low_val for high_val, low_val in zip(high_list, low_list))\n",
    "print('the largest change in any one day is $' , max(diff))\n",
    "\n",
    "\n",
    "#5. What was the largest change between any two days (based on Closing Price)?\n",
    "change = 0\n",
    "close_list = column(data_dict['dataset']['data'], close_idx)\n",
    "for i in range(len(close_list)):\n",
    "    j=i+1\n",
    "    while j < len(close_list):\n",
    "        if change < abs(close_list[i]-close_list[j]):\n",
    "            change = abs(close_list[i]-close_list[j])\n",
    "        j = j+1        \n",
    "print ('The largest change between any two days', change)        \n",
    "\n",
    "\n",
    "#6. What was the average daily trading volume during this year?\n",
    "def mean(numbers):\n",
    "    return float(sum(numbers))/ len(numbers)\n",
    "tradeVol_list = column(data_dict['dataset']['data'], tradeVol_idx)\n",
    "print('The average daily trading volume during this year was ', mean(tradeVol_list))\n",
    "\n",
    "\n",
    "#7. (Optional) What was the median trading volume during this year. (Note: you may need to implement your own function for calculating the median.)\n",
    "def median(numbers):\n",
    "    tradeVol_list.sort()\n",
    "    if (len(tradeVol_list)%2 == 0):\n",
    "        medianVal = (tradeVol_list[len(tradeVol_list)/2] + tradeVol_list[len(tradeVol_list)/2 -1]) / 2\n",
    "    else:\n",
    "        medianVal = tradeVol_list[int(len(tradeVol_list)/2)]\n",
    "    return medianVal\n",
    "print('The median trading volume during this year was ' , median(tradeVol_list))\n",
    "\n"
   ]
  },
  {
   "cell_type": "code",
   "execution_count": null,
   "metadata": {},
   "outputs": [],
   "source": []
  },
  {
   "cell_type": "code",
   "execution_count": null,
   "metadata": {},
   "outputs": [],
   "source": []
  },
  {
   "cell_type": "code",
   "execution_count": null,
   "metadata": {},
   "outputs": [],
   "source": []
  },
  {
   "cell_type": "code",
   "execution_count": null,
   "metadata": {},
   "outputs": [],
   "source": []
  },
  {
   "cell_type": "code",
   "execution_count": null,
   "metadata": {},
   "outputs": [],
   "source": []
  },
  {
   "cell_type": "code",
   "execution_count": null,
   "metadata": {},
   "outputs": [],
   "source": []
  },
  {
   "cell_type": "code",
   "execution_count": null,
   "metadata": {},
   "outputs": [],
   "source": []
  },
  {
   "cell_type": "code",
   "execution_count": null,
   "metadata": {},
   "outputs": [],
   "source": []
  }
 ],
 "metadata": {
  "kernelspec": {
   "display_name": "Python 3",
   "language": "python",
   "name": "python3"
  },
  "language_info": {
   "codemirror_mode": {
    "name": "ipython",
    "version": 3
   },
   "file_extension": ".py",
   "mimetype": "text/x-python",
   "name": "python",
   "nbconvert_exporter": "python",
   "pygments_lexer": "ipython3",
   "version": "3.7.1"
  }
 },
 "nbformat": 4,
 "nbformat_minor": 2
}
